{
  "nbformat": 4,
  "nbformat_minor": 0,
  "metadata": {
    "colab": {
      "name": "알고리즘 연습-5월4주차.ipynb",
      "provenance": [],
      "collapsed_sections": [],
      "toc_visible": true
    },
    "kernelspec": {
      "name": "python3",
      "display_name": "Python 3"
    },
    "language_info": {
      "name": "python"
    }
  },
  "cells": [
    {
      "cell_type": "markdown",
      "source": [
        "## 1010번 다리 놓기-S5"
      ],
      "metadata": {
        "id": "X99fQ0hSP4J8"
      }
    },
    {
      "cell_type": "code",
      "execution_count": 31,
      "metadata": {
        "colab": {
          "base_uri": "https://localhost:8080/"
        },
        "id": "IayIUdA5P1kB",
        "outputId": "910b6957-2d5e-43fb-9ee3-f84fba0f3954"
      },
      "outputs": [
        {
          "output_type": "stream",
          "name": "stdout",
          "text": [
            "1\n",
            "4 7\n",
            "35\n"
          ]
        }
      ],
      "source": [
        "num = int(input())\n",
        "\n",
        "cnt = 0\n",
        "while cnt < num:\n",
        "    cnt += 1\n",
        "    a, b = map(int, input().split())\n",
        "\n",
        "    c = 1\n",
        "    d = 1\n",
        "    for i in range(1, a+1):\n",
        "        c *= b\n",
        "        b -= 1\n",
        "\n",
        "        d *= a\n",
        "        a -= 1\n",
        "    print(int(c/d))"
      ]
    },
    {
      "cell_type": "markdown",
      "source": [
        "while문 쓰는 것 보다 이렇게 for문 쓰는게 더 편함"
      ],
      "metadata": {
        "id": "xA-zDDApZLZz"
      }
    },
    {
      "cell_type": "code",
      "source": [
        "for _ in range(int(input())): \n",
        "  a, b = map(int, input().split())\n",
        "  c = 1\n",
        "  d = 1\n",
        "  for i in range(1, a+1):\n",
        "    c *= b\n",
        "    b -= 1\n",
        "\n",
        "    d *= a\n",
        "    a -= 1\n",
        "  print(int(c/d))"
      ],
      "metadata": {
        "colab": {
          "base_uri": "https://localhost:8080/"
        },
        "id": "4NSnb_GAYqGY",
        "outputId": "18c97674-7c15-46a4-f3de-415b7581c788"
      },
      "execution_count": 33,
      "outputs": [
        {
          "output_type": "stream",
          "name": "stdout",
          "text": [
            "1\n",
            "4 7\n",
            "35\n"
          ]
        }
      ]
    },
    {
      "cell_type": "markdown",
      "source": [
        "함수 만들어서 사용 factorial, comb"
      ],
      "metadata": {
        "id": "PzCm0WE1aMfY"
      }
    },
    {
      "cell_type": "code",
      "source": [
        "def facto(x):\n",
        "  if x == 0 or x == 1:\n",
        "    return 1\n",
        "  else:\n",
        "    return x * facto(x-1)\n",
        "\n",
        "def comb(n, r):\n",
        "  return int(facto(n) / (facto(r)*facto(n-r)))"
      ],
      "metadata": {
        "id": "k82CVPerZRaw"
      },
      "execution_count": 37,
      "outputs": []
    },
    {
      "cell_type": "code",
      "source": [
        "for _ in range(int(input())):\n",
        "  a, b = map(int, input().split())\n",
        "  print(comb(b, a))\n"
      ],
      "metadata": {
        "colab": {
          "base_uri": "https://localhost:8080/"
        },
        "id": "FAUB5om7a5OM",
        "outputId": "48fa0e44-6f86-41e4-d88d-7872e8b6d5c5"
      },
      "execution_count": 40,
      "outputs": [
        {
          "output_type": "stream",
          "name": "stdout",
          "text": [
            "1\n",
            "4 7\n",
            "35\n"
          ]
        }
      ]
    },
    {
      "cell_type": "markdown",
      "source": [
        "숏코드 : math의 comb 활용"
      ],
      "metadata": {
        "id": "ghnFRF37YQDY"
      }
    },
    {
      "cell_type": "code",
      "source": [
        "import math\n",
        "\n",
        "for _ in range(int(input())):\n",
        "    n,m = map(int,input().split())\n",
        "    print(math.comb(m,n))"
      ],
      "metadata": {
        "id": "0tJT-LpzTe3h"
      },
      "execution_count": null,
      "outputs": []
    },
    {
      "cell_type": "markdown",
      "source": [
        "## 1018번 체스판 다시 칠하기-S5"
      ],
      "metadata": {
        "id": "9sYmHuNydPJy"
      }
    },
    {
      "cell_type": "markdown",
      "source": [
        "첫번째 문자를 기준으로 계산"
      ],
      "metadata": {
        "id": "8F9A6sDSjAuS"
      }
    },
    {
      "cell_type": "code",
      "source": [
        "n,m=map(int,input().split())\n",
        "\n",
        "chess_board =[]\n",
        "for i in range(n):\n",
        "    chess_board.append(input())\n",
        "\n",
        "move_array=[]\n",
        "for i in range(n-7):\n",
        "    for j in range(m-7):\n",
        "        move=0\n",
        "        new_chess_board=[]\n",
        "        board_size_n=8\n",
        "        board_size_m=8\n",
        "        for k in range(board_size_n):\n",
        "            \n",
        "            new_chess_board.append(chess_board[k+i][j:j+8])#8개의 규격으로 자른 chess_board 생성\n",
        "        \n",
        "        for k in range(board_size_n): #생성된 체스판에서 하나씩 훑기\n",
        "            for l in range(board_size_m):\n",
        "                if new_chess_board[0][0]=='B': \n",
        "                    if (l+k) % 2 ==0:# 맨 앞에것이 B일 때, l+k가 짝수인 것은 문자가 같아야 한다.\n",
        "                        if new_chess_board[k][l]=='W':\n",
        "                            move +=1\n",
        "                    else:\n",
        "                        if new_chess_board[k][l]=='B':# 맨 앞에것이 B일 때, l+k가 홀수인 것은 문자가 달라야 한다.\n",
        "                            move +=1\n",
        "                if new_chess_board[0][0]=='W':\n",
        "                    if (l+k) % 2 ==0:# 맨 앞에것이 W일 때, l+k가 짝수인 것은 문자가 같아야 한다.\n",
        "                        if new_chess_board[k][l]=='B':\n",
        "                            move +=1\n",
        "                    else:\n",
        "                        if new_chess_board[k][l]=='W':# 맨 앞에것이 B일 때, l+k가 홀수인 것은 문자가 달라야 한다.\n",
        "                            move +=1\n",
        "        if move > 32:\n",
        "            move = 64-move\n",
        "\n",
        "        move_array.append(move)\n",
        "\n",
        "\n",
        "print(min(move_array))"
      ],
      "metadata": {
        "colab": {
          "base_uri": "https://localhost:8080/"
        },
        "id": "ih76M7cngYZv",
        "outputId": "0cd5050c-75f6-4724-c86c-c5df63e0d10d"
      },
      "execution_count": 4,
      "outputs": [
        {
          "output_type": "stream",
          "name": "stdout",
          "text": [
            "8 8\n",
            "WWBWBWBW\n",
            "WBWBWBWB\n",
            "BWBWBWBW\n",
            "WBWBWBWB\n",
            "BWBWBWBW\n",
            "WBWBWBWB\n",
            "BWBWBWBW\n",
            "WBWBWBWB\n",
            "1\n"
          ]
        }
      ]
    },
    {
      "cell_type": "code",
      "source": [
        "# 체스판 받아오기\n",
        "M, N = map(int, input().split(' '))\n",
        "board = [input() for _ in range(M)]\n",
        "\n",
        "min_fill = 64\n",
        "\n",
        "# 8*8로 구성된 체스판 옮겨가면서 체크\n",
        "for m in range(M-7):\n",
        "    for n in range(N-7):\n",
        "        chess = [b[n:n+8] for b in board[m:m+8]]\n",
        "        \n",
        "        chess_inline = ''.join(chess[::2]) + ''.join(chess[1::2])[::-1]  # 새로운 inline을 만든다 : 바꿔야할 개수를 세기 위해서 -> 결과값 확인해보기\n",
        "       \n",
        "        start_B = chess_inline[::2].count('B') + chess_inline[1::2].count('W')\n",
        "        \n",
        "        start_W = 64 - start_B\n",
        "        \n",
        "        min_fill = min(min_fill, start_B, start_W)\n",
        "\n",
        "print(min_fill)\n",
        "\n",
        "# VS code로 각 위치의 결과 확인하면서 이해하기"
      ],
      "metadata": {
        "colab": {
          "base_uri": "https://localhost:8080/"
        },
        "id": "iNgvvsaxi-4K",
        "outputId": "0c5912b2-508b-47bc-8ac4-771da02c89ef"
      },
      "execution_count": 2,
      "outputs": [
        {
          "output_type": "stream",
          "name": "stdout",
          "text": [
            "8 8\n",
            "WWBWBWBW\n",
            "BWBWBWBW\n",
            "WBWBWBWB\n",
            "BWBWBWBW\n",
            "WBWBWBWB\n",
            "BWBWBWBW\n",
            "WBWBWBWB\n",
            "BWBWBWBW\n",
            "['WWBWBWBW', 'BWBWBWBW', 'WBWBWBWB', 'BWBWBWBW', 'WBWBWBWB', 'BWBWBWBW', 'WBWBWBWB', 'BWBWBWBW']\n",
            "WWBWBWBWWBWBWBWBWBWBWBWBWBWBWBWBWBWBWBWBWBWBWBWBWBWBWBWBWBWBWBWB\n",
            "7\n"
          ]
        }
      ]
    },
    {
      "cell_type": "markdown",
      "source": [
        "## 2839번 설탕배달 - B1\n",
        "\n",
        "상근이는 요즘 설탕공장에서 설탕을 배달하고 있다. 상근이는 지금 사탕가게에 설탕을 정확하게 N킬로그램을 배달해야 한다. 설탕공장에서 만드는 설탕은 봉지에 담겨져 있다. 봉지는 3킬로그램 봉지와 5킬로그램 봉지가 있다.\n",
        "\n",
        "상근이는 귀찮기 때문에, 최대한 적은 봉지를 들고 가려고 한다. 예를 들어, 18킬로그램 설탕을 배달해야 할 때, 3킬로그램 봉지 6개를 가져가도 되지만, 5킬로그램 3개와 3킬로그램 1개를 배달하면, 더 적은 개수의 봉지를 배달할 수 있다.\n",
        "\n",
        "상근이가 설탕을 정확하게 N킬로그램 배달해야 할 때, 봉지 몇 개를 가져가면 되는지 그 수를 구하는 프로그램을 작성하시오.\n",
        "\n",
        "첫째 줄에 N이 주어진다. (3 ≤ N ≤ 5000)\n",
        "\n",
        "상근이가 배달하는 봉지의 최소 개수를 출력한다. 만약, 정확하게 N킬로그램을 만들 수 없다면 -1을 출력한다."
      ],
      "metadata": {
        "id": "TabqVj-ZJ75o"
      }
    },
    {
      "cell_type": "code",
      "source": [
        "N = int(input())\n",
        "\n",
        "n1 = (N // 5) + ((N % 5) // 3) # 5로 나누고 나머지를 3으로 나눔\n",
        "n2 = (N // 3) # 3으로 나눈 몫, 3의 배수로만 나눌 수 있는경우(예 : 6, 12)\n",
        "\n",
        "n = (N % 5) % 3 # 5로 나눈 나머지를 3으로 나눈 나머지\n",
        "m = (N % 3)\n",
        "\n",
        "if n != 0 and m != 0:\n",
        "  print(-1)\n",
        "elif n == 0:\n",
        "  print(n1)\n",
        "else:\n",
        "  print(n2)\n",
        "\n",
        "# 11 을 처리하지 못함 5 1개와 3의 배수의 조합 or 5 2개와 3의배수의 조합 등"
      ],
      "metadata": {
        "colab": {
          "base_uri": "https://localhost:8080/"
        },
        "id": "Wx39l7czLOrW",
        "outputId": "d0e052ab-32e6-4d5a-f283-d74f7d3bde3a"
      },
      "execution_count": 49,
      "outputs": [
        {
          "output_type": "stream",
          "name": "stdout",
          "text": [
            "11\n",
            "-1\n"
          ]
        }
      ]
    },
    {
      "cell_type": "markdown",
      "source": [
        "조합을 만들고 최소값을 반환하는 형태로 해결 -> 런타임에러-> -1 조건을 안넣어줬었음"
      ],
      "metadata": {
        "id": "geHMn-ktXRNK"
      }
    },
    {
      "cell_type": "code",
      "source": [
        "N = int(input())\n",
        "\n",
        "y = []\n",
        "\n",
        "for i in range(1001):  \n",
        "    for j in range(1000):\n",
        "        \n",
        "        m = 5*i + 3*j\n",
        "        if N == m:\n",
        "            x = i+j\n",
        "            y.append(x)\n",
        "\n",
        "if y:\n",
        "  print(min(y))\n",
        "else:\n",
        "  print(-1)\n"
      ],
      "metadata": {
        "colab": {
          "base_uri": "https://localhost:8080/"
        },
        "id": "pZWZ54vqM-o7",
        "outputId": "7b0b5233-f63a-4d83-9546-7d94d1f93407"
      },
      "execution_count": 67,
      "outputs": [
        {
          "output_type": "stream",
          "name": "stdout",
          "text": [
            "7\n",
            "-1\n"
          ]
        }
      ]
    },
    {
      "cell_type": "markdown",
      "source": [
        "숏코드 : 수학적으로 이해가 되어야 짤 수 있을 듯"
      ],
      "metadata": {
        "id": "6l8y-YyWXg2C"
      }
    },
    {
      "cell_type": "code",
      "source": [
        "a=int(input())\n",
        "print(-(a in[4,7]) or a//5+(a%5!=0)+(a%5 in[2,4]))"
      ],
      "metadata": {
        "colab": {
          "base_uri": "https://localhost:8080/"
        },
        "id": "AP5LClyiUnNH",
        "outputId": "e9f7a1a4-0976-41f4-c58e-d198dde28c2b"
      },
      "execution_count": 69,
      "outputs": [
        {
          "output_type": "stream",
          "name": "stdout",
          "text": [
            "11\n",
            "3\n"
          ]
        }
      ]
    },
    {
      "cell_type": "code",
      "source": [
        "n=int(input())\n",
        "cnt,mod = divmod(n,5) #divmod ?\n",
        "print(-1 if cnt<mod%3 else cnt+mod//3+mod%3)"
      ],
      "metadata": {
        "colab": {
          "base_uri": "https://localhost:8080/"
        },
        "id": "9R875QyQaplN",
        "outputId": "8eda1b1d-a667-4500-b0ac-d912ae969835"
      },
      "execution_count": 68,
      "outputs": [
        {
          "output_type": "stream",
          "name": "stdout",
          "text": [
            "18\n",
            "4\n"
          ]
        }
      ]
    },
    {
      "cell_type": "code",
      "source": [
        "n=int(input())\n",
        "r=n%5\n",
        "while r%3!=0:\n",
        "    r+=5\n",
        "if(n-r<0):\n",
        "    print(-1)\n",
        "else:\n",
        "    print(r//3+(n-r)//5)"
      ],
      "metadata": {
        "id": "3P3qZfDQaxRY"
      },
      "execution_count": null,
      "outputs": []
    },
    {
      "cell_type": "code",
      "source": [
        "inp=int(input())\n",
        "r=(0,1,0)\n",
        "if(inp in (4,7)):print(-1)\n",
        "else:print(int(inp/5)+int(inp%5/3)+inp%5%3)"
      ],
      "metadata": {
        "id": "o_uT9SWDa89Q"
      },
      "execution_count": null,
      "outputs": []
    },
    {
      "cell_type": "markdown",
      "source": [
        "# 1065번 한수 찾기 -S4\n",
        "\n",
        "어떤 양의 정수 X의 각 자리가 등차수열을 이룬다면, 그 수를 한수라고 한다. 등차수열은 연속된 두 개의 수의 차이가 일정한 수열을 말한다. N이 주어졌을 때, 1보다 크거나 같고, N보다 작거나 같은 한수의 개수를 출력하는 프로그램을 작성하시오. \n",
        "\n",
        "첫째 줄에 1,000보다 작거나 같은 자연수 N이 주어진다.\n",
        "\n",
        "첫째 줄에 1보다 크거나 같고, N보다 작거나 같은 한수의 개수를 출력한다."
      ],
      "metadata": {
        "id": "41e3mCQUSeXE"
      }
    },
    {
      "cell_type": "code",
      "source": [
        "#99까지는 모두 한수, 공차가 양수, 0, 음수 모두 가능\n",
        "\n",
        "N = int(input())\n",
        "\n",
        "cnt = 0\n",
        "for i in range(1, N+1):\n",
        "  if i < 100:\n",
        "    cnt += 1\n",
        "  else:\n",
        "    strN = str(i)\n",
        "\n",
        "    if int(strN[0])+int(strN[2]) == int(strN[1])*2:\n",
        "      cnt+= 1\n",
        "\n",
        "print(cnt)\n"
      ],
      "metadata": {
        "colab": {
          "base_uri": "https://localhost:8080/"
        },
        "id": "PlhjzM5shDsi",
        "outputId": "1f983928-6d41-4d9f-fa63-1acca3d1311a"
      },
      "execution_count": 6,
      "outputs": [
        {
          "output_type": "stream",
          "name": "stdout",
          "text": [
            "1000\n",
            "144\n"
          ]
        }
      ]
    },
    {
      "cell_type": "markdown",
      "source": [
        "숏코드"
      ],
      "metadata": {
        "id": "jlD3_dIhrbyv"
      }
    },
    {
      "cell_type": "code",
      "source": [
        "count=0\n",
        "for i in range(1,int(input())+1):  # 숫자 받아서 그만큼 for문 돌리기\n",
        "  if(i<100):                       # 1부터 99까지는 모두 한수로 처리\n",
        "    count+=1\n",
        "  else:\n",
        "    a,b,c,*_=map(int, str(i))      # i를 str로 받고 그것을 각각 int로 바꾼 후 a,b,c,*_로 분리\n",
        "    count+=(a-b==b-c)              # 한수 조건 만족하면 True(1)이 되므로 이를 하나씩 더함\n",
        "print(count)"
      ],
      "metadata": {
        "id": "lvgk4R2zrc22"
      },
      "execution_count": null,
      "outputs": []
    },
    {
      "cell_type": "code",
      "source": [
        "a, b, c, _ = map(int, str(1524))\n",
        "print(a)\n",
        "print(type(a))\n",
        "print(b)\n",
        "print(c)\n",
        "print(_)"
      ],
      "metadata": {
        "colab": {
          "base_uri": "https://localhost:8080/"
        },
        "id": "w2jIvNt5XSN0",
        "outputId": "d771b21d-b35e-42e9-9053-39f7aff90b36"
      },
      "execution_count": 28,
      "outputs": [
        {
          "output_type": "stream",
          "name": "stdout",
          "text": [
            "1\n",
            "<class 'int'>\n",
            "5\n",
            "2\n",
            "4\n"
          ]
        }
      ]
    },
    {
      "cell_type": "markdown",
      "source": [
        "# 1152번 단어의 개수 -S3\n",
        "\n",
        "영어 대소문자와 공백으로 이루어진 문자열이 주어진다. 이 문자열에는 몇 개의 단어가 있을까? 이를 구하는 프로그램을 작성하시오. 단, 한 단어가 여러 번 등장하면 등장한 횟수만큼 모두 세어야 한다.\n",
        "\n",
        "첫 줄에 영어 대소문자와 공백으로 이루어진 문자열이 주어진다. 이 문자열의 길이는 1,000,000을 넘지 않는다. 단어는 공백 한 개로 구분되며, 공백이 연속해서 나오는 경우는 없다. 또한 문자열은 공백으로 시작하거나 끝날 수 있다.\n",
        "\n",
        "첫째 줄에 단어의 개수를 출력한다."
      ],
      "metadata": {
        "id": "2jqx7Pn3qhAT"
      }
    },
    {
      "cell_type": "code",
      "source": [
        "def count_word(sent):\n",
        "  sent = sent.split()\n",
        "  cnt = len(sent)\n",
        "\n",
        "  return cnt"
      ],
      "metadata": {
        "id": "PBuB3r9Ejo-t"
      },
      "execution_count": 7,
      "outputs": []
    },
    {
      "cell_type": "code",
      "source": [
        "sent = input()\n",
        "\n",
        "print(count_word(sent))"
      ],
      "metadata": {
        "id": "gfytrLmIsYFz"
      },
      "execution_count": null,
      "outputs": []
    },
    {
      "cell_type": "code",
      "source": [
        "count_word('The last character is a blank ')"
      ],
      "metadata": {
        "colab": {
          "base_uri": "https://localhost:8080/"
        },
        "id": "t92YDRK5r0CP",
        "outputId": "854b9f73-9dae-4924-af37-e24cbe64faaf"
      },
      "execution_count": 10,
      "outputs": [
        {
          "output_type": "execute_result",
          "data": {
            "text/plain": [
              "6"
            ]
          },
          "metadata": {},
          "execution_count": 10
        }
      ]
    },
    {
      "cell_type": "markdown",
      "source": [
        "숏코드"
      ],
      "metadata": {
        "id": "suupm4GrsdA-"
      }
    },
    {
      "cell_type": "code",
      "source": [
        "print(len(input().split()))"
      ],
      "metadata": {
        "id": "dIBgT2BHr5hJ"
      },
      "execution_count": null,
      "outputs": []
    },
    {
      "cell_type": "markdown",
      "source": [
        "#15829 Hashing - S2\n",
        "\n",
        "APC에 온 것을 환영한다. 만약 여러분이 학교에서 자료구조를 수강했다면 해시 함수에 대해 배웠을 것이다. 해시 함수란 임의의 길이의 입력을 받아서 고정된 길이의 출력을 내보내는 함수로 정의한다. 해시 함수는 무궁무진한 응용 분야를 갖는데, 대표적으로 자료의 저장과 탐색에 쓰인다.\n",
        "\n",
        "이 문제에서는 여러분이 앞으로 유용하게 쓸 수 있는 해시 함수를 하나 가르쳐주고자 한다. 먼저, 편의상 입력으로 들어오는 문자열에는 영문 소문자(a, b, ..., z)로만 구성되어있다고 가정하자. 영어에는 총 26개의 알파벳이 존재하므로 a에는 1, b에는 2, c에는 3, ..., z에는 26으로 고유한 번호를 부여할 수 있다. 결과적으로 우리는 하나의 문자열을 수열로 변환할 수 있다. 예를 들어서 문자열 \"abba\"은 수열 1, 2, 2, 1로 나타낼 수 있다.\n",
        "\n",
        "해시 값을 계산하기 위해서 우리는 문자열 혹은 수열을 하나의 정수로 치환하려고 한다. 간단하게는 수열의 값을 모두 더할 수도 있다. 해시 함수의 정의에서 유한한 범위의 출력을 가져야 한다고 했으니까 적당히 큰 수 M으로 나눠주자. 짜잔! 해시 함수가 완성되었다. 이를 수식으로 표현하면 아래와 같다.\n",
        "\n",
        " \n",
        "\\[H = \\sum_{i=0}^{l-1}{a_i} \\mod M\\] \n",
        "\n",
        "해시 함수의 입력으로 들어올 수 있는 문자열의 종류는 무한하지만 출력 범위는 정해져있다. 다들 비둘기 집의 원리에 대해서는 한 번쯤 들어봤을 것이다. 그 원리에 의하면 서로 다른 문자열이더라도 동일한 해시 값을 가질 수 있다. 이를 해시 충돌이라고 하는데, 좋은 해시 함수는 최대한 충돌이 적게 일어나야 한다. 위에서 정의한 해시 함수는 알파벳의 순서만 바꿔도 충돌이 일어나기 때문에 나쁜 해시 함수이다. 그러니까 조금 더 개선해보자.\n",
        "\n",
        "어떻게 하면 순서가 달라졌을때 출력값도 달라지게 할 수 있을까? 머리를 굴리면 수열의 각 항마다 고유한 계수를 부여하면 된다는 아이디어를 생각해볼 수 있다. 가장 대표적인 방법은 항의 번호에 해당하는 만큼 특정한 숫자를 거듭제곱해서 곱해준 다음 더하는 것이 있다. 이를 수식으로 표현하면 아래와 같다.\n",
        "\n",
        " \n",
        "\\[H = \\sum_{i=0}^{l-1}{a_ir^i} \\mod M\\] \n",
        "\n",
        "보통 r과 M은 서로소인 숫자로 정하는 것이 일반적이다. 우리가 직접 정하라고 하면 힘들테니까 r의 값은 26보다 큰 소수인 31로 하고 M의 값은 1234567891(놀랍게도 소수이다!!)로 하자.\n",
        "\n",
        "이제 여러분이 할 일은 위 식을 통해 주어진 문자열의 해시 값을 계산하는 것이다. 그리고 이 함수는 간단해 보여도 자주 쓰이니까 기억해뒀다가 잘 써먹도록 하자.\n",
        "\n",
        "첫 줄에는 문자열의 길이 L이 들어온다. 둘째 줄에는 영문 소문자로만 이루어진 문자열이 들어온다.\n",
        "\n",
        "입력으로 주어지는 문자열은 모두 알파벳 소문자로만 구성되어 있다.\n",
        "\n",
        "문제에서 주어진 해시함수와 입력으로 주어진 문자열을 사용해 계산한 해시 값을 정수로 출력한다."
      ],
      "metadata": {
        "id": "wuEFG1EWyoia"
      }
    },
    {
      "cell_type": "markdown",
      "source": [
        "예제 1: abcde의 해시 값은 1 × 31^0 + 2 × 31^1 + 3 × 31^2 + 4 × 31^3 + 5 × 31^4 = 1 + 62 + 2883 + 119164 + 4617605 = 4739715이다.\n",
        "\n",
        "예제 2: zzz의 해시 값은 26 × 31^0 + 26 × 31^1 + 26 × 31^2 = 26 + 806 + 24986 = 25818이다."
      ],
      "metadata": {
        "id": "xpHUE5Oby7SY"
      }
    },
    {
      "cell_type": "code",
      "source": [
        "import string\n",
        "\n",
        "alp = list(string.ascii_lowercase)\n",
        "\n",
        "alp.index('a')+1\n"
      ],
      "metadata": {
        "colab": {
          "base_uri": "https://localhost:8080/"
        },
        "id": "JmbI3Ogby6eO",
        "outputId": "ecb0e108-95a4-43d8-ba9c-3128c16de266"
      },
      "execution_count": 15,
      "outputs": [
        {
          "output_type": "execute_result",
          "data": {
            "text/plain": [
              "1"
            ]
          },
          "metadata": {},
          "execution_count": 15
        }
      ]
    },
    {
      "cell_type": "code",
      "source": [
        "import string\n",
        "\n",
        "alp = list(string.ascii_lowercase)\n",
        "\n",
        "n = int(input())\n",
        "sent = input()\n",
        "m = 1234567891\n",
        "result = 0\n",
        "\n",
        "for i in range(n):\n",
        "    c = alp.index(sent[i])+1\n",
        "    result += c*31**i\n",
        "\n",
        "print(result%m)"
      ],
      "metadata": {
        "colab": {
          "base_uri": "https://localhost:8080/"
        },
        "id": "hjN73TEz5wk0",
        "outputId": "34d1606b-91db-4485-ce7c-d6c5c6e8941d"
      },
      "execution_count": 19,
      "outputs": [
        {
          "output_type": "stream",
          "name": "stdout",
          "text": [
            "3\n",
            "zzz\n",
            "25818\n"
          ]
        }
      ]
    },
    {
      "cell_type": "markdown",
      "source": [
        "숏코드"
      ],
      "metadata": {
        "id": "3TvCcM3LWCGA"
      }
    },
    {
      "cell_type": "code",
      "source": [
        "input()   # 개수는 받을 필요 없고\n",
        "a=input()\n",
        "s=0\n",
        "for i in range(len(a)):\n",
        "    t=ord(a[i])-96   # ord가 무엇? a=97로 되어 있음, 따라서 -96\n",
        "    s+=t*31**i\n",
        "print(s%1234567891)   # M으로 나눈 나머지를 출력(주어진 해싱 함수)"
      ],
      "metadata": {
        "id": "eWQCp1VtUJeC"
      },
      "execution_count": null,
      "outputs": []
    },
    {
      "cell_type": "code",
      "source": [
        "ord('a'), ord('b')"
      ],
      "metadata": {
        "colab": {
          "base_uri": "https://localhost:8080/"
        },
        "id": "J2PH_IurWNIM",
        "outputId": "82464a23-8d60-47f5-cff4-a85e64e22c59"
      },
      "execution_count": 22,
      "outputs": [
        {
          "output_type": "execute_result",
          "data": {
            "text/plain": [
              "(97, 98)"
            ]
          },
          "metadata": {},
          "execution_count": 22
        }
      ]
    },
    {
      "cell_type": "markdown",
      "source": [
        "#2562 최댓값 1+\n",
        "\n",
        "9개의 서로 다른 자연수가 주어질 때, 이들 중 최댓값을 찾고 그 최댓값이 몇 번째 수인지를 구하는 프로그램을 작성하시오.\n",
        "\n",
        "예를 들어, 서로 다른 9개의 자연수\n",
        "\n",
        "3, 29, 38, 12, 57, 74, 40, 85, 61\n",
        "\n",
        "이 주어지면, 이들 중 최댓값은 85이고, 이 값은 8번째 수이다.\n",
        "\n",
        "첫째 줄부터 아홉 번째 줄까지 한 줄에 하나의 자연수가 주어진다. 주어지는 자연수는 100 보다 작다.\n",
        "\n",
        "첫째 줄에 최댓값을 출력하고, 둘째 줄에 최댓값이 몇 번째 수인지를 출력한다.\n"
      ],
      "metadata": {
        "id": "wX4OYTXesp0Z"
      }
    },
    {
      "cell_type": "code",
      "source": [
        "number = []\n",
        "\n",
        "for i in range(9):\n",
        "  number.append(int(input()))\n",
        "\n",
        "m = max(number)\n",
        "\n",
        "print(m)\n",
        "print(number.index(m)+1)"
      ],
      "metadata": {
        "colab": {
          "base_uri": "https://localhost:8080/"
        },
        "id": "dK400MtlWQPy",
        "outputId": "7e3619a6-f153-47ea-d221-00220fd3f2a4"
      },
      "execution_count": 2,
      "outputs": [
        {
          "output_type": "stream",
          "name": "stdout",
          "text": [
            "3\n",
            "10\n",
            "15\n",
            "24\n",
            "3\n",
            "2\n",
            "1\n",
            "1\n",
            "1\n",
            "24\n",
            "4\n"
          ]
        }
      ]
    },
    {
      "cell_type": "markdown",
      "source": [
        "숏코드"
      ],
      "metadata": {
        "id": "0I4X0ZDyt5Nj"
      }
    },
    {
      "cell_type": "code",
      "source": [
        "x = [int(input()) for _ in range(9)]\n",
        "print(max(x), x.index(max(x))+1)"
      ],
      "metadata": {
        "colab": {
          "base_uri": "https://localhost:8080/"
        },
        "id": "EAlogXrqtR_U",
        "outputId": "f9a9d6aa-6d45-4a90-8cf3-f71558598097"
      },
      "execution_count": 4,
      "outputs": [
        {
          "output_type": "stream",
          "name": "stdout",
          "text": [
            "3\n",
            "10\n",
            "40\n",
            "33\n",
            "21\n",
            "5\n",
            "3\n",
            "2\n",
            "1\n",
            "40 \n",
            " 3\n"
          ]
        }
      ]
    },
    {
      "cell_type": "markdown",
      "source": [
        "2675 문자열 반복 1+\n",
        "\n",
        "문자열 S를 입력받은 후에, 각 문자를 R번 반복해 새 문자열 P를 만든 후 출력하는 프로그램을 작성하시오. 즉, 첫 번째 문자를 R번 반복하고, 두 번째 문자를 R번 반복하는 식으로 P를 만들면 된다. S에는 QR Code \"alphanumeric\" 문자만 들어있다.\n",
        "\n",
        "QR Code \"alphanumeric\" 문자는 0123456789ABCDEFGHIJKLMNOPQRSTUVWXYZ\\$%*+-./: 이다."
      ],
      "metadata": {
        "id": "Tf9RDeWLugGQ"
      }
    },
    {
      "cell_type": "markdown",
      "source": [
        "첫째 줄에 테스트 케이스의 개수 T(1 ≤ T ≤ 1,000)가 주어진다. 각 테스트 케이스는 반복 횟수 R(1 ≤ R ≤ 8), 문자열 S가 공백으로 구분되어 주어진다. S의 길이는 적어도 1이며, 20글자를 넘지 않는다. "
      ],
      "metadata": {
        "id": "7mu7ag5Euoie"
      }
    },
    {
      "cell_type": "markdown",
      "source": [
        "각 테스트 케이스에 대해 P를 출력한다."
      ],
      "metadata": {
        "id": "1MJCDmX2upSu"
      }
    },
    {
      "cell_type": "code",
      "source": [
        "n = int(input())\n",
        "\n",
        "for _ in range(n):\n",
        "    num,s = input().split()\n",
        "    for j in range(len(s)):\n",
        "        print(s[j]*int(num), end='')\n",
        "    print()"
      ],
      "metadata": {
        "colab": {
          "base_uri": "https://localhost:8080/"
        },
        "id": "o8PrDp8Aun-x",
        "outputId": "3f7d9c03-4a46-408d-813a-c32af693a9c8"
      },
      "execution_count": 5,
      "outputs": [
        {
          "output_type": "stream",
          "name": "stdout",
          "text": [
            "2\n",
            "3 abc\n",
            "aaabbbccc\n",
            "4 /fcd\n",
            "////ffffccccdddd\n"
          ]
        }
      ]
    },
    {
      "cell_type": "markdown",
      "source": [
        "숏코드\n",
        "- join과 내포문 사용"
      ],
      "metadata": {
        "id": "n5BCHjdswIl-"
      }
    },
    {
      "cell_type": "code",
      "source": [
        "for i in range(int(input())):\n",
        "    b,c=input().split()\n",
        "    print(''.join(j*int(b) for j in c))"
      ],
      "metadata": {
        "id": "2dh7RV8KuEwx"
      },
      "execution_count": null,
      "outputs": []
    },
    {
      "cell_type": "markdown",
      "source": [
        "# 10951 A+B(readlines이용)\n"
      ],
      "metadata": {
        "id": "V90kegFu2OXB"
      }
    },
    {
      "cell_type": "code",
      "source": [
        "import sys\n",
        "lines = sys.stdin.readlines()\n",
        "\n",
        "for line in lines:\n",
        "    a, b = map(int, line.split())\n",
        "    print(a+b)"
      ],
      "metadata": {
        "id": "FTjelS7twJhG"
      },
      "execution_count": null,
      "outputs": []
    }
  ]
}